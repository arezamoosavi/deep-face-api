{
 "cells": [
  {
   "cell_type": "code",
   "execution_count": 3,
   "metadata": {},
   "outputs": [],
   "source": [
    "import tensorflow as tf\n",
    "from PIL import Image\n",
    "from io import BytesIO"
   ]
  },
  {
   "cell_type": "code",
   "execution_count": 7,
   "metadata": {},
   "outputs": [],
   "source": [
    "with open(\"image.jpeg\", \"rb\") as image:\n",
    "    f = image.read()\n",
    "    b = bytearray(f)\n",
    "    img = Image.open(BytesIO(b))\n",
    "image_array  = tf.keras.preprocessing.image.img_to_array(img)"
   ]
  },
  {
   "cell_type": "code",
   "execution_count": 11,
   "metadata": {},
   "outputs": [
    {
     "name": "stdout",
     "output_type": "stream",
     "text": [
      "JPEG\n"
     ]
    }
   ],
   "source": [
    "# Convert bytes to stream (file-like object in memory)\n",
    "picture_stream = BytesIO(b)\n",
    "\n",
    "# Create Image object\n",
    "picture = Image.open(picture_stream)\n",
    "\n",
    "#display image\n",
    "picture.show()\n",
    "\n",
    "# print whether JPEG, PNG, etc.\n",
    "print(picture.format)"
   ]
  },
  {
   "cell_type": "code",
   "execution_count": 13,
   "metadata": {},
   "outputs": [],
   "source": [
    "# picture"
   ]
  },
  {
   "cell_type": "code",
   "execution_count": 15,
   "metadata": {},
   "outputs": [
    {
     "name": "stdout",
     "output_type": "stream",
     "text": [
      "Actions to do:  ['age', 'gender', 'race', 'emotion']\n"
     ]
    },
    {
     "name": "stderr",
     "output_type": "stream",
     "text": [
      "Analyzing:   0%|          | 0/1 [00:00<?, ?it/s]\n",
      "Finding actions:   0%|          | 0/4 [00:00<?, ?it/s]\u001b[A\n",
      "Action: age:   0%|          | 0/4 [00:00<?, ?it/s]    \u001b[A\n",
      "Action: age:  25%|██▌       | 1/4 [00:01<00:03,  1.32s/it]\u001b[A\n",
      "Action: gender:  25%|██▌       | 1/4 [00:01<00:03,  1.32s/it]\u001b[A\n",
      "Action: gender:  50%|█████     | 2/4 [00:01<00:02,  1.05s/it]\u001b[A\n",
      "Action: race:  50%|█████     | 2/4 [00:01<00:02,  1.05s/it]  \u001b[A\n",
      "Action: race:  75%|███████▌  | 3/4 [00:02<00:00,  1.17it/s]\u001b[A\n",
      "Action: emotion:  75%|███████▌  | 3/4 [00:02<00:00,  1.17it/s]\u001b[A\n",
      "Action: emotion: 100%|██████████| 4/4 [00:02<00:00,  1.74it/s]\u001b[A\n",
      "Analyzing:   0%|          | 0/1 [00:02<?, ?it/s]"
     ]
    },
    {
     "name": "stdout",
     "output_type": "stream",
     "text": [
      "Age:  32.97053400620707\n",
      "Gender:  Woman\n",
      "Emotion:  fear\n",
      "Race:  white\n"
     ]
    },
    {
     "name": "stderr",
     "output_type": "stream",
     "text": [
      "\n"
     ]
    }
   ],
   "source": [
    "from deepface import DeepFace\n",
    "\n",
    "demography = DeepFace.analyze(\n",
    "    image_array, actions=[\"age\", \"gender\", \"race\", \"emotion\"]\n",
    ")\n",
    "print(\"Age: \", demography[\"age\"])\n",
    "print(\"Gender: \", demography[\"gender\"])\n",
    "print(\"Emotion: \", demography[\"dominant_emotion\"])\n",
    "print(\"Race: \", demography[\"dominant_race\"])"
   ]
  },
  {
   "cell_type": "code",
   "execution_count": 18,
   "metadata": {},
   "outputs": [
    {
     "name": "stdout",
     "output_type": "stream",
     "text": [
      "Using Facenet model backend cosine distance.\n"
     ]
    },
    {
     "name": "stderr",
     "output_type": "stream",
     "text": [
      "Verification:   0%|          | 0/1 [00:01<?, ?it/s]"
     ]
    },
    {
     "name": "stdout",
     "output_type": "stream",
     "text": [
      "Is verified:  True\n"
     ]
    },
    {
     "name": "stderr",
     "output_type": "stream",
     "text": [
      "\n"
     ]
    }
   ],
   "source": [
    "from deepface import DeepFace\n",
    "\n",
    "\"\"\"models = [\"VGG-Face\", \"Facenet\", \"OpenFace\", \"DeepFace\", \"DeepID\"]\n",
    "for model in models:\n",
    "   result = DeepFace.verify(\"img1.jpg\", \"img2.jpg\", model_name = model)\n",
    "metrics = [\"cosine\", \"euclidean\", \"euclidean_l2\"]\n",
    "for metric in metrics:\n",
    "   result = DeepFace.verify(\"img1.jpg\", \"img2.jpg\", distance_metric = metric)\n",
    "\"\"\"\n",
    "result  = DeepFace.verify(image_array, image_array, model_name = \"Facenet\")\n",
    "print(\"Is verified: \", result[\"verified\"])"
   ]
  },
  {
   "cell_type": "code",
   "execution_count": 19,
   "metadata": {},
   "outputs": [
    {
     "data": {
      "text/plain": [
       "{'verified': True,\n",
       " 'distance': 0.0,\n",
       " 'max_threshold_to_verify': 0.4,\n",
       " 'model': 'Facenet',\n",
       " 'similarity_metric': 'cosine'}"
      ]
     },
     "execution_count": 19,
     "metadata": {},
     "output_type": "execute_result"
    }
   ],
   "source": [
    "result"
   ]
  }
 ],
 "metadata": {
  "kernelspec": {
   "display_name": "Python 3",
   "language": "python",
   "name": "python3"
  },
  "language_info": {
   "codemirror_mode": {
    "name": "ipython",
    "version": 3
   },
   "file_extension": ".py",
   "mimetype": "text/x-python",
   "name": "python",
   "nbconvert_exporter": "python",
   "pygments_lexer": "ipython3",
   "version": "3.8.2"
  }
 },
 "nbformat": 4,
 "nbformat_minor": 4
}
